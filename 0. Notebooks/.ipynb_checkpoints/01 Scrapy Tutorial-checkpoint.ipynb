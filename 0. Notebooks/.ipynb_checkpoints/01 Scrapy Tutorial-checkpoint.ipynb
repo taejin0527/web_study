{
 "cells": [
  {
   "cell_type": "markdown",
   "metadata": {},
   "source": [
    "# Scrapy Tutorial\n",
    "\n",
    "공식 문서 튜토리얼 따라하기 [doc.scrapy](https://doc.scrapy.org/en/2.0/intro/tutorial.html)\n",
    "\n",
    "유명한 인용문들을 [quotes.toscrape.com](http://quotes.toscrape.com/) 에서 스크랩해보자\n",
    "\n",
    "아래의 순서로 진행,\n",
    "\n",
    "   1. 새로운 Scrapy project 생성\n",
    "   2. 사이트를 크롤링하고 데이터를 추출하기 위한 spider 작성\n",
    "   3. command line을 사용하여 스크랩 된 데이터 내보내기\n",
    "   4. 재귀적으로 링크를 따라 들어가도록 spider 수정\n",
    "   5. spider arguments 사용하기\n"
   ]
  },
  {
   "cell_type": "markdown",
   "metadata": {},
   "source": [
    "## Creating a project\n",
    "\n",
    "프로젝트를 생성할 디렉토리를 정하고 아래 명령어를 통해 새로운 프로젝트를 생성한다.\n",
    "\n",
    "`scrapy startproject <project_name>`"
   ]
  },
  {
   "cell_type": "code",
   "execution_count": 2,
   "metadata": {
    "ExecuteTime": {
     "end_time": "2020-04-23T15:42:56.442184Z",
     "start_time": "2020-04-23T15:42:55.611319Z"
    }
   },
   "outputs": [
    {
     "name": "stdout",
     "output_type": "stream",
     "text": [
      "New Scrapy project 'tutorial', using template directory 'C:\\Users\\User\\anaconda3\\envs\\web_venv\\lib\\site-packages\\scrapy\\templates\\project', created in:\n",
      "    C:\\Users\\User\\Desktop\\web_scrapping\\0. Notebooks\\tutorial\n",
      "\n",
      "You can start your first spider with:\n",
      "    cd tutorial\n",
      "    scrapy genspider example example.com\n"
     ]
    }
   ],
   "source": [
    "! scrapy startproject tutorial"
   ]
  },
  {
   "cell_type": "markdown",
   "metadata": {},
   "source": [
    "실행하면 __tutorial__ 디렉토리가 생성되고 아래와 같은 구조로 구성되어 있다.\n",
    "\n",
    "```\n",
    "tutorial/\n",
    "    scrapy.cfg            # deploy 설정 파일\n",
    "    tutorial/             # 프로젝트의 파이썬 모듈, 여기서 코드를 import 한다\n",
    "        __init__.py\n",
    "        items.py          # items 정의\n",
    "        middlewares.py    # middlewares 파일\n",
    "        pipelines.py      # pipelines 파일\n",
    "        settings.py       # 설정 파일\n",
    "        spiders/          # 나중에 나만의 spiders를 넣을 디렉토리\n",
    "            __init__.py|\n",
    "```"
   ]
  },
  {
   "cell_type": "code",
   "execution_count": 1,
   "metadata": {
    "ExecuteTime": {
     "end_time": "2020-04-24T02:25:20.968656Z",
     "start_time": "2020-04-24T02:25:20.936761Z"
    }
   },
   "outputs": [
    {
     "name": "stdout",
     "output_type": "stream",
     "text": [
      "폴더 PATH의 목록입니다.\n",
      "볼륨 일련 번호는 3ADA-D4B8입니다.\n",
      "C:\\USERS\\USER\\DESKTOP\\WEB_SCRAPPING\\0. NOTEBOOKS\\TUTORIAL\n",
      "│  scrapy.cfg\n",
      "│  \n",
      "└─tutorial\n",
      "    │  items.py\n",
      "    │  middlewares.py\n",
      "    │  pipelines.py\n",
      "    │  settings.py\n",
      "    │  __init__.py\n",
      "    │  \n",
      "    ├─spiders\n",
      "    │  │  __init__.py\n",
      "    │  │  \n",
      "    │  └─__pycache__\n",
      "    └─__pycache__\n"
     ]
    }
   ],
   "source": [
    "! tree /F tutorial"
   ]
  },
  {
   "cell_type": "markdown",
   "metadata": {},
   "source": [
    "## Our first Spider\n",
    "\n"
   ]
  },
  {
   "cell_type": "markdown",
   "metadata": {},
   "source": [
    "__Spiders__ 는 웹사이트에서 정보를 스크랩할 때 Scrapy가 사용하는 사용자 정의 클래스들이다. `Spider` 클래스를 상속받아 최초 요청, 선택적으로 페이지의 링크를 따르는 방법, 다운로드한 페이지 내용을 구문 분석하여 데이터를 추출하는 방법 등을 정의해야 한다.\n",
    "\n",
    "`tutorial/spiders` 디렉토리 아래에 새로운 파일 `quotes_spider.py`를 생성하고 아래의 코드를 입력하여 나의 첫 Spider를 만들어보자."
   ]
  },
  {
   "cell_type": "code",
   "execution_count": 3,
   "metadata": {
    "ExecuteTime": {
     "end_time": "2020-04-24T02:36:44.019777Z",
     "start_time": "2020-04-24T02:36:44.014803Z"
    }
   },
   "outputs": [
    {
     "name": "stdout",
     "output_type": "stream",
     "text": [
      "Writing tutorial/tutorial/spiders/quotes_spider.py\n"
     ]
    }
   ],
   "source": [
    "%%writefile tutorial/tutorial/spiders/quotes_spider.py\n",
    "import scrapy\n",
    "\n",
    "\n",
    "class QuotesSpider(scrapy.Spider):\n",
    "    name = \"quotes\"\n",
    "    \n",
    "    def start_requests(self):\n",
    "        urls = [\n",
    "            'http://quotes.toscrape.com/page/1/',\n",
    "            'http://quotes.toscrape.com/page/2/',\n",
    "        ]\n",
    "        for url in urls:\n",
    "            yield scrapy.Request(url=url, callback=self.parse)\n",
    "            \n",
    "    def parse(self, response):\n",
    "        page = response.url.split(\"/\")[-2]\n",
    "        filename = f'quotes-{page}.html'\n",
    "        with open(filename, 'wb') as f:\n",
    "            f.write(response.body)\n",
    "        self.log(f'Saved file {filename}')"
   ]
  },
  {
   "cell_type": "markdown",
   "metadata": {},
   "source": [
    "__scrapy.Spider__ 를 상속받고 속성과 메소드들 몇 개를 추가하였다.\n",
    "\n",
    "- `name` : \n",
    "    - Spider를 구분하기 때문에 프로젝트에서 unique한 값을 가져야 한다.\n",
    "\n",
    "- `start_requests()` : \n",
    "    - Requests 반복자를 반환해야한다. (list로 반환해도 되고 위 코드처럼 generator 함수를 반환해도 된다)\n",
    "\n",
    "- `parse()` : \n",
    "    - 각 요청(request)에 대해 다운로드되는 응답(response)을 처리하는 메소드를 호출\n",
    "    - response 인자는 페이지 내용을 보관하는 TextResponse의 한 인스턴스\n",
    "    - 주로 response를 구문 분석하고, dicts 타입으로 스크랩된 데이터를 추출하고 새로운 URLs를 찾아 new requests 폼을 생성한다."
   ]
  },
  {
   "cell_type": "markdown",
   "metadata": {},
   "source": [
    "### How to run our spider\n",
    "\n",
    "__프로젝트 가장 상위 디렉토리__ 로 이동하여 아래 명령어를 실행한다.\n",
    "\n",
    "`scrapy crawl <spider_name>`"
   ]
  },
  {
   "cell_type": "code",
   "execution_count": 5,
   "metadata": {
    "ExecuteTime": {
     "end_time": "2020-04-24T03:39:13.725702Z",
     "start_time": "2020-04-24T03:39:10.484086Z"
    },
    "collapsed": true
   },
   "outputs": [
    {
     "name": "stdout",
     "output_type": "stream",
     "text": [
      "C:\\Users\\User\\Desktop\\web_scrapping\\0. Notebooks\\tutorial\n"
     ]
    },
    {
     "name": "stderr",
     "output_type": "stream",
     "text": [
      "2020-04-24 12:39:11 [scrapy.utils.log] INFO: Scrapy 1.6.0 started (bot: tutorial)\n",
      "2020-04-24 12:39:11 [scrapy.utils.log] INFO: Versions: lxml 4.5.0.0, libxml2 2.9.9, cssselect 1.1.0, parsel 1.5.2, w3lib 1.21.0, Twisted 20.3.0, Python 3.8.2 (default, Apr 14 2020, 19:01:40) [MSC v.1916 64 bit (AMD64)], pyOpenSSL 19.1.0 (OpenSSL 1.1.1g  21 Apr 2020), cryptography 2.8, Platform Windows-10-10.0.18362-SP0\n",
      "2020-04-24 12:39:11 [scrapy.crawler] INFO: Overridden settings: {'BOT_NAME': 'tutorial', 'NEWSPIDER_MODULE': 'tutorial.spiders', 'ROBOTSTXT_OBEY': True, 'SPIDER_MODULES': ['tutorial.spiders']}\n",
      "2020-04-24 12:39:11 [scrapy.extensions.telnet] INFO: Telnet Password: 83c7df4d484c55d6\n",
      "2020-04-24 12:39:11 [scrapy.middleware] INFO: Enabled extensions:\n",
      "['scrapy.extensions.corestats.CoreStats',\n",
      " 'scrapy.extensions.telnet.TelnetConsole',\n",
      " 'scrapy.extensions.logstats.LogStats']\n",
      "2020-04-24 12:39:11 [scrapy.middleware] INFO: Enabled downloader middlewares:\n",
      "['scrapy.downloadermiddlewares.robotstxt.RobotsTxtMiddleware',\n",
      " 'scrapy.downloadermiddlewares.httpauth.HttpAuthMiddleware',\n",
      " 'scrapy.downloadermiddlewares.downloadtimeout.DownloadTimeoutMiddleware',\n",
      " 'scrapy.downloadermiddlewares.defaultheaders.DefaultHeadersMiddleware',\n",
      " 'scrapy.downloadermiddlewares.useragent.UserAgentMiddleware',\n",
      " 'scrapy.downloadermiddlewares.retry.RetryMiddleware',\n",
      " 'scrapy.downloadermiddlewares.redirect.MetaRefreshMiddleware',\n",
      " 'scrapy.downloadermiddlewares.httpcompression.HttpCompressionMiddleware',\n",
      " 'scrapy.downloadermiddlewares.redirect.RedirectMiddleware',\n",
      " 'scrapy.downloadermiddlewares.cookies.CookiesMiddleware',\n",
      " 'scrapy.downloadermiddlewares.httpproxy.HttpProxyMiddleware',\n",
      " 'scrapy.downloadermiddlewares.stats.DownloaderStats']\n",
      "2020-04-24 12:39:11 [scrapy.middleware] INFO: Enabled spider middlewares:\n",
      "['scrapy.spidermiddlewares.httperror.HttpErrorMiddleware',\n",
      " 'scrapy.spidermiddlewares.offsite.OffsiteMiddleware',\n",
      " 'scrapy.spidermiddlewares.referer.RefererMiddleware',\n",
      " 'scrapy.spidermiddlewares.urllength.UrlLengthMiddleware',\n",
      " 'scrapy.spidermiddlewares.depth.DepthMiddleware']\n",
      "2020-04-24 12:39:11 [scrapy.middleware] INFO: Enabled item pipelines:\n",
      "[]\n",
      "2020-04-24 12:39:11 [scrapy.core.engine] INFO: Spider opened\n",
      "2020-04-24 12:39:11 [scrapy.extensions.logstats] INFO: Crawled 0 pages (at 0 pages/min), scraped 0 items (at 0 items/min)\n",
      "2020-04-24 12:39:11 [scrapy.extensions.telnet] INFO: Telnet console listening on 127.0.0.1:6023\n",
      "2020-04-24 12:39:12 [scrapy.core.engine] DEBUG: Crawled (404) <GET http://quotes.toscrape.com/robots.txt> (referer: None)\n",
      "2020-04-24 12:39:12 [scrapy.core.engine] DEBUG: Crawled (200) <GET http://quotes.toscrape.com/page/1/> (referer: None)\n",
      "2020-04-24 12:39:13 [quotes] DEBUG: Saved file quotes-1.html\n",
      "2020-04-24 12:39:13 [scrapy.core.engine] DEBUG: Crawled (200) <GET http://quotes.toscrape.com/page/2/> (referer: None)\n",
      "2020-04-24 12:39:13 [quotes] DEBUG: Saved file quotes-2.html\n",
      "2020-04-24 12:39:13 [scrapy.core.engine] INFO: Closing spider (finished)\n",
      "2020-04-24 12:39:13 [scrapy.statscollectors] INFO: Dumping Scrapy stats:\n",
      "{'downloader/request_bytes': 678,\n",
      " 'downloader/request_count': 3,\n",
      " 'downloader/request_method_count/GET': 3,\n",
      " 'downloader/response_bytes': 6003,\n",
      " 'downloader/response_count': 3,\n",
      " 'downloader/response_status_count/200': 2,\n",
      " 'downloader/response_status_count/404': 1,\n",
      " 'finish_reason': 'finished',\n",
      " 'finish_time': datetime.datetime(2020, 4, 24, 3, 39, 13, 655926),\n",
      " 'log_count/DEBUG': 5,\n",
      " 'log_count/INFO': 9,\n",
      " 'response_received_count': 3,\n",
      " 'robotstxt/request_count': 1,\n",
      " 'robotstxt/response_count': 1,\n",
      " 'robotstxt/response_status_count/404': 1,\n",
      " 'scheduler/dequeued': 2,\n",
      " 'scheduler/dequeued/memory': 2,\n",
      " 'scheduler/enqueued': 2,\n",
      " 'scheduler/enqueued/memory': 2,\n",
      " 'start_time': datetime.datetime(2020, 4, 24, 3, 39, 11, 491721)}\n",
      "2020-04-24 12:39:13 [scrapy.core.engine] INFO: Spider closed (finished)\n"
     ]
    }
   ],
   "source": [
    "% cd tutorial\n",
    "! scrapy crawl quotes"
   ]
  },
  {
   "cell_type": "markdown",
   "metadata": {},
   "source": [
    "우리가 생성한 `quotes` spider를 통해 [quotes.toscrape.com](http://quotes.toscrape.com/) 도메인에 requests를 보냈다. 결과는 아래와 비슷하게 출력되는 것을 볼 수 있다.\n",
    "\n",
    "``` java\n",
    "... (생략)\n",
    "2016-12-16 21:24:05 [scrapy.core.engine] INFO: Spider opened\n",
    "2016-12-16 21:24:05 [scrapy.extensions.logstats] INFO: Crawled 0 pages (at 0 pages/min), scraped 0 items (at 0 items/min)\n",
    "2016-12-16 21:24:05 [scrapy.extensions.telnet] DEBUG: Telnet console listening on 127.0.0.1:6023\n",
    "2016-12-16 21:24:05 [scrapy.core.engine] DEBUG: Crawled (404) <GET http://quotes.toscrape.com/robots.txt> (referer: None)\n",
    "2016-12-16 21:24:05 [scrapy.core.engine] DEBUG: Crawled (200) <GET http://quotes.toscrape.com/page/1/> (referer: None)\n",
    "2016-12-16 21:24:05 [scrapy.core.engine] DEBUG: Crawled (200) <GET http://quotes.toscrape.com/page/2/> (referer: None)\n",
    "2016-12-16 21:24:05 [quotes] DEBUG: Saved file quotes-1.html\n",
    "2016-12-16 21:24:05 [quotes] DEBUG: Saved file quotes-2.html\n",
    "2016-12-16 21:24:05 [scrapy.core.engine] INFO: Closing spider (finished)\n",
    "```\n",
    "\n",
    "현재 디렉토리(`/tutorial`)를 살펴보면 두 개의 새로운 파일 \"quotes-1.html\", \"quotes-2.html\" 이 생성된 것을 볼 수 있다."
   ]
  },
  {
   "cell_type": "markdown",
   "metadata": {},
   "source": [
    "#### What just happend under the hood?\n",
    "\n",
    "Scrapy가 스케줄을 짠다. Spider의 `start_requests()` 메서드로 반환된 객체 요청(`scrapy.Request`) 각각에 대한 응답(`Response`)을 받으면, 응답 객체를 인스턴스화하고, 요청과 관련된 콜백 방법(이 경우, `parse` 방법)을 인수로 전달하여 호출한다."
   ]
  },
  {
   "cell_type": "markdown",
   "metadata": {},
   "source": [
    "### A shortcut to the start_requests method\n",
    "\n",
    "`start_requests()` 메소드를 구현하는 것 말고 그냥 `start_urls` 클래스 속성을 정의할 수 있다. 그러면 spider에 기본으로 구현된 `start_requests()` 메소드에 사용되어 initial 요청을 생성한다."
   ]
  },
  {
   "cell_type": "code",
   "execution_count": 7,
   "metadata": {
    "ExecuteTime": {
     "end_time": "2020-04-24T04:02:23.817074Z",
     "start_time": "2020-04-24T04:02:23.812085Z"
    }
   },
   "outputs": [
    {
     "name": "stdout",
     "output_type": "stream",
     "text": [
      "Overwriting tutorial/spiders/quotes_spider.py\n"
     ]
    }
   ],
   "source": [
    "%%writefile tutorial/spiders/quotes_spider.py\n",
    "import scrapy\n",
    "\n",
    "\n",
    "class QuotesSpider(scrapy.Spider):\n",
    "    name = \"quotes\"\n",
    "    start_urls = [\n",
    "        'http://quotes.toscrape.com/page/1/',\n",
    "        'http://quotes.toscrape.com/page/2/',\n",
    "    ]\n",
    "\n",
    "    def parse(self, response):\n",
    "        page = response.url.split(\"/\")[-2]\n",
    "        filename = 'quotes-%s.html' % page\n",
    "        with open(filename, 'wb') as f:\n",
    "            f.write(response.body)"
   ]
  },
  {
   "cell_type": "markdown",
   "metadata": {},
   "source": [
    "특별한 명시가 없었는데도 `parse()` 메소드가 리스트에 있는 URLs의 요청을 처리하는 것을 볼 수 있다. 이는 Scrapy의 기본 callback 메소드가 `parse()`이기 때문이다."
   ]
  },
  {
   "cell_type": "markdown",
   "metadata": {},
   "source": [
    "### Extracting data\n",
    "\n",
    "Scrapy를 사용한 데이터 추출을 배우는 가장 좋은 방법은 [Scrapy shell](https://doc.scrapy.org/en/2.0/topics/shell.html#topics-shell)을 사용하는 것이다.\n",
    "\n",
    "> shell이란? 스파이더를 실행하지 않고도 스크래핑 코드를 빠르게 시도하고 디버깅 할 수 있다. 데이터 추출 코드를 테스트 하는 데 사용하지만, 일반 python 셸이므로 모든 종류의 코드를 테스트 가능하다.\n",
    "\n",
    "shell 환경에서는 `scrapy shell <URL>` 명령어로 간단하게 실행 가능하다.\n",
    "\n",
    "ex) `scrapy shell \"http://quotes.toscrape.com/page/1/\"`\n",
    "\n",
    "\n",
    "여기 노트북에서는 아래와 같은 방법으로 실행한다.\n",
    "\n",
    "참고) [stackoverflow](https://stackoverflow.com/questions/49908158/using-scrapy-in-jupyter-notebook-accessing-response-directly)"
   ]
  },
  {
   "cell_type": "code",
   "execution_count": 11,
   "metadata": {
    "ExecuteTime": {
     "end_time": "2020-04-24T04:22:16.434046Z",
     "start_time": "2020-04-24T04:22:14.576687Z"
    }
   },
   "outputs": [],
   "source": [
    "import requests\n",
    "from scrapy.http import TextResponse\n",
    "\n",
    "\n",
    "res = requests.get(\"http://quotes.toscrape.com/page/1/\")\n",
    "response = TextResponse(res.url, body=res.text, encoding='utf-8')"
   ]
  },
  {
   "cell_type": "markdown",
   "metadata": {},
   "source": [
    "__CSS__ 를 사용하여 response 객체의 특정 elements를 선택할 수 있다."
   ]
  },
  {
   "cell_type": "code",
   "execution_count": 13,
   "metadata": {
    "ExecuteTime": {
     "end_time": "2020-04-24T04:22:35.161935Z",
     "start_time": "2020-04-24T04:22:35.151936Z"
    }
   },
   "outputs": [
    {
     "data": {
      "text/plain": [
       "[<Selector xpath='descendant-or-self::title' data='<title>Quotes to Scrape</title>'>]"
      ]
     },
     "execution_count": 13,
     "metadata": {},
     "output_type": "execute_result"
    }
   ],
   "source": [
    "response.css('title')"
   ]
  },
  {
   "cell_type": "code",
   "execution_count": null,
   "metadata": {},
   "outputs": [],
   "source": []
  }
 ],
 "metadata": {
  "kernelspec": {
   "display_name": "Python 3",
   "language": "python",
   "name": "python3"
  },
  "language_info": {
   "codemirror_mode": {
    "name": "ipython",
    "version": 3
   },
   "file_extension": ".py",
   "mimetype": "text/x-python",
   "name": "python",
   "nbconvert_exporter": "python",
   "pygments_lexer": "ipython3",
   "version": "3.8.2"
  },
  "toc": {
   "base_numbering": 1,
   "nav_menu": {},
   "number_sections": true,
   "sideBar": true,
   "skip_h1_title": false,
   "title_cell": "Table of Contents",
   "title_sidebar": "Contents",
   "toc_cell": false,
   "toc_position": {},
   "toc_section_display": true,
   "toc_window_display": false
  }
 },
 "nbformat": 4,
 "nbformat_minor": 4
}
