{
 "cells": [
  {
   "cell_type": "markdown",
   "metadata": {},
   "source": [
    "# Scrapy를 사용한 크롤링\n",
    "\n",
    "웹 크롤러를 만드는 과정에서 반복 작업을 줄여주는 라이브러리\n",
    "\n",
    "## Scrapy\n",
    "\n",
    "스크래파이는\n",
    "\n",
    "- 웹사이트의 링크를 찾아서 분석하고,\n",
    "- 도메인이나 도메인 목록 크롤링 작업을 쉽게 해주는 라이브러리\n",
    "\n",
    "### 다운로드\n",
    "\n",
    "- [공식 웹사이트](http://scrapy.org/download/)에서 직접 다운\n",
    "- 인스톨 관리자(pip 등)를 사용해서 다운\n",
    "    - (나의 경우) __conda에서 다운__\n",
    "\n",
    "### 프로젝트 생성"
   ]
  },
  {
   "cell_type": "code",
   "execution_count": 8,
   "metadata": {
    "ExecuteTime": {
     "end_time": "2020-04-23T14:30:45.111457Z",
     "start_time": "2020-04-23T14:30:44.298942Z"
    }
   },
   "outputs": [
    {
     "name": "stdout",
     "output_type": "stream",
     "text": [
      "New Scrapy project 'wikiSpider', using template directory 'C:\\Users\\User\\anaconda3\\envs\\web_venv\\lib\\site-packages\\scrapy\\templates\\project', created in:\n",
      "    C:\\Users\\User\\Desktop\\web_scrapping\\0. Notebooks\\wikiSpider\n",
      "\n",
      "You can start your first spider with:\n",
      "    cd wikiSpider\n",
      "    scrapy genspider example example.com\n"
     ]
    }
   ],
   "source": [
    "! scrapy startproject wikiSpider"
   ]
  },
  {
   "cell_type": "markdown",
   "metadata": {},
   "source": [
    "명령어를 실행하게 되면 'wikiSpider'라는 새 프로젝트가 생성된다.\n",
    "\n",
    "이 디렉터리는 다음과 같은 구조로 되어있다."
   ]
  },
  {
   "cell_type": "code",
   "execution_count": 23,
   "metadata": {
    "ExecuteTime": {
     "end_time": "2020-04-23T14:50:19.018260Z",
     "start_time": "2020-04-23T14:50:18.990806Z"
    }
   },
   "outputs": [
    {
     "name": "stdout",
     "output_type": "stream",
     "text": [
      "폴더 PATH의 목록입니다.\n",
      "볼륨 일련 번호는 3ADA-D4B8입니다.\n",
      "C:\\USERS\\USER\\DESKTOP\\WEB_SCRAPPING\\0. NOTEBOOKS\\WIKISPIDER\n",
      "│  scrapy.cfg\n",
      "│  \n",
      "└─wikiSpider\n",
      "    │  items.py\n",
      "    │  middlewares.py\n",
      "    │  pipelines.py\n",
      "    │  settings.py\n",
      "    │  __init__.py\n",
      "    │  \n",
      "    ├─spiders\n",
      "    │  │  __init__.py\n",
      "    │  │  \n",
      "    │  └─__pycache__\n",
      "    └─__pycache__\n"
     ]
    }
   ],
   "source": [
    "! tree /F wikiSpider"
   ]
  },
  {
   "cell_type": "markdown",
   "metadata": {},
   "source": [
    "- /spiders\n",
    "    - 어떤 웹사이트를 어떻게 크롤링할 것인가를 명시하고, 각각의 웹 페이지의 어떤 부분을 스크래핑할 것인지 명시하는 클래스가 모여있는 디렉토리\n",
    "    - 여러개의 spider.py 파일을 만들어 사용할 수 있음\n",
    "\n",
    "- items.py\n",
    "    - 크롤링하는 데이터에 대해 정의하는 클래스가 있는 파일(MVC → M)\n",
    "\n",
    "- pipelines.py\n",
    "    - item 객체 형태로 크롤링을 하고 출력하기 전에 item을 받아서 실행하는 파일이 정의되어 있는 파일\n",
    "    - item을 자유롭게 가공하거나 다양한 파일 형태로 저장할 수 있도록 하는 클래스\n",
    "\n",
    "- settings.py\n",
    "    - spider나 item pipeline 등이 어떻게 동작하게 할지에 대한 세부적 설정이 담겨 있는 파일\n",
    "        e.g. robots.txt 정책을 따를 것인지 안 따를 것인지, pipeline을 사용할지 안 할지"
   ]
  },
  {
   "cell_type": "markdown",
   "metadata": {},
   "source": [
    "\n",
    "### 크롤러 만들기\n",
    "\n",
    "- wikiSpider/ 에 있는 **items.py** 파일에 새 항목 Ariticle을 정의\n",
    "- wikiSpider/spiders/ 안에 새 파일 **articleSpider.py**를 추가"
   ]
  },
  {
   "cell_type": "code",
   "execution_count": 27,
   "metadata": {
    "ExecuteTime": {
     "end_time": "2020-04-23T15:02:14.356001Z",
     "start_time": "2020-04-23T15:02:14.352039Z"
    }
   },
   "outputs": [
    {
     "name": "stdout",
     "output_type": "stream",
     "text": [
      "Overwriting wikiSpider/wikiSpider/items.py\n"
     ]
    }
   ],
   "source": [
    "%%writefile wikiSpider/wikiSpider/items.py\n",
    "\n",
    "# -*- coding: utf-8 -*-\n",
    "\n",
    "# Define here the models for your scraped items\n",
    "#\n",
    "# See documentation in:\n",
    "# https://doc.scrapy.org/en/latest/topics/items.html\n",
    "\n",
    "from scrapy import Item, Field\n",
    "\n",
    "\n",
    "class Article(Item):\n",
    "    # define the fields for your item here like:\n",
    "    # name = scrapy.Field()\n",
    "    title = Field()"
   ]
  },
  {
   "cell_type": "markdown",
   "metadata": {},
   "source": [
    "Item 객체 하나가 웹사이트의 페이지 하나에 대응\n",
    "\n",
    "단순히 각 페이지에서 title 필드만 수집"
   ]
  },
  {
   "cell_type": "code",
   "execution_count": 46,
   "metadata": {
    "ExecuteTime": {
     "end_time": "2020-04-23T15:11:23.365384Z",
     "start_time": "2020-04-23T15:11:23.360396Z"
    }
   },
   "outputs": [
    {
     "name": "stdout",
     "output_type": "stream",
     "text": [
      "Overwriting wikiSpider/wikiSpider/spiders/articleSpider.py\n"
     ]
    }
   ],
   "source": [
    "%%writefile  wikiSpider/wikiSpider/spiders/articleSpider.py\n",
    "\n",
    "from scrapy.selector import Selector\n",
    "from scrapy import Spider\n",
    "from wikiSpider.items import Article\n",
    "\n",
    "\n",
    "class ArticleSpider(Spider):\n",
    "    name=\"article\"\n",
    "    allowed_domains = [\"en.wikipedia.org\"]\n",
    "    start_urls = [\"http://en.wikipedia.org/wiki/Main_Page\",\n",
    "                  \"https://en.wikipedia.org/wiki/Python_%28programming_language%29\"]\n",
    "\n",
    "    def parse(self, response):\n",
    "        item = Article()\n",
    "        title = response.xpath('//h1/text()')[0].extract()\n",
    "        print(\"Title is: \" + title)\n",
    "        item['title'] = title\n",
    "        return item"
   ]
  },
  {
   "cell_type": "markdown",
   "metadata": {},
   "source": [
    "잘 추가 되었는가 확인"
   ]
  },
  {
   "cell_type": "code",
   "execution_count": 30,
   "metadata": {
    "ExecuteTime": {
     "end_time": "2020-04-23T15:03:24.763035Z",
     "start_time": "2020-04-23T15:03:24.734769Z"
    },
    "scrolled": true
   },
   "outputs": [
    {
     "name": "stdout",
     "output_type": "stream",
     "text": [
      "폴더 PATH의 목록입니다.\n",
      "볼륨 일련 번호는 3ADA-D4B8입니다.\n",
      "C:\\USERS\\USER\\DESKTOP\\WEB_SCRAPPING\\0. NOTEBOOKS\\WIKISPIDER\n",
      "│  scrapy.cfg\n",
      "│  \n",
      "├─.ipynb_checkpoints\n",
      "└─wikiSpider\n",
      "    │  items.py\n",
      "    │  middlewares.py\n",
      "    │  pipelines.py\n",
      "    │  settings.py\n",
      "    │  __init__.py\n",
      "    │  \n",
      "    ├─spiders\n",
      "    │  │  articleSpider.py\n",
      "    │  │  __init__.py\n",
      "    │  │  \n",
      "    │  └─__pycache__\n",
      "    └─__pycache__\n"
     ]
    }
   ],
   "source": [
    "! tree /F wikiSpider"
   ]
  },
  {
   "cell_type": "markdown",
   "metadata": {},
   "source": [
    "ArticleSpider 안의 name=\"article\" 로 스크레이퍼를 호출\n",
    "\n",
    "그전에 현재 경로를 wikiSpider 폴더로 옮겨가자."
   ]
  },
  {
   "cell_type": "code",
   "execution_count": 47,
   "metadata": {
    "ExecuteTime": {
     "end_time": "2020-04-23T15:11:39.170478Z",
     "start_time": "2020-04-23T15:11:39.166488Z"
    }
   },
   "outputs": [
    {
     "name": "stdout",
     "output_type": "stream",
     "text": [
      "C:\\Users\\User\\Desktop\\web_scrapping\\0. Notebooks\\wikiSpider\n"
     ]
    }
   ],
   "source": [
    "%cd wikiSpider"
   ]
  },
  {
   "cell_type": "code",
   "execution_count": 48,
   "metadata": {
    "ExecuteTime": {
     "end_time": "2020-04-23T15:11:43.989365Z",
     "start_time": "2020-04-23T15:11:41.275768Z"
    },
    "collapsed": true
   },
   "outputs": [
    {
     "name": "stdout",
     "output_type": "stream",
     "text": [
      "Title is: Python (programming language)\n",
      "Title is: Main Page\n"
     ]
    },
    {
     "name": "stderr",
     "output_type": "stream",
     "text": [
      "2020-04-24 00:11:42 [scrapy.utils.log] INFO: Scrapy 1.6.0 started (bot: wikiSpider)\n",
      "2020-04-24 00:11:42 [scrapy.utils.log] INFO: Versions: lxml 4.5.0.0, libxml2 2.9.9, cssselect 1.1.0, parsel 1.5.2, w3lib 1.21.0, Twisted 20.3.0, Python 3.8.2 (default, Apr 14 2020, 19:01:40) [MSC v.1916 64 bit (AMD64)], pyOpenSSL 19.1.0 (OpenSSL 1.1.1g  21 Apr 2020), cryptography 2.8, Platform Windows-10-10.0.18362-SP0\n",
      "2020-04-24 00:11:42 [scrapy.crawler] INFO: Overridden settings: {'BOT_NAME': 'wikiSpider', 'NEWSPIDER_MODULE': 'wikiSpider.spiders', 'ROBOTSTXT_OBEY': True, 'SPIDER_MODULES': ['wikiSpider.spiders']}\n",
      "2020-04-24 00:11:42 [scrapy.extensions.telnet] INFO: Telnet Password: 36ac62775d8af95d\n",
      "2020-04-24 00:11:42 [scrapy.middleware] INFO: Enabled extensions:\n",
      "['scrapy.extensions.corestats.CoreStats',\n",
      " 'scrapy.extensions.telnet.TelnetConsole',\n",
      " 'scrapy.extensions.logstats.LogStats']\n",
      "2020-04-24 00:11:42 [scrapy.middleware] INFO: Enabled downloader middlewares:\n",
      "['scrapy.downloadermiddlewares.robotstxt.RobotsTxtMiddleware',\n",
      " 'scrapy.downloadermiddlewares.httpauth.HttpAuthMiddleware',\n",
      " 'scrapy.downloadermiddlewares.downloadtimeout.DownloadTimeoutMiddleware',\n",
      " 'scrapy.downloadermiddlewares.defaultheaders.DefaultHeadersMiddleware',\n",
      " 'scrapy.downloadermiddlewares.useragent.UserAgentMiddleware',\n",
      " 'scrapy.downloadermiddlewares.retry.RetryMiddleware',\n",
      " 'scrapy.downloadermiddlewares.redirect.MetaRefreshMiddleware',\n",
      " 'scrapy.downloadermiddlewares.httpcompression.HttpCompressionMiddleware',\n",
      " 'scrapy.downloadermiddlewares.redirect.RedirectMiddleware',\n",
      " 'scrapy.downloadermiddlewares.cookies.CookiesMiddleware',\n",
      " 'scrapy.downloadermiddlewares.httpproxy.HttpProxyMiddleware',\n",
      " 'scrapy.downloadermiddlewares.stats.DownloaderStats']\n",
      "2020-04-24 00:11:42 [scrapy.middleware] INFO: Enabled spider middlewares:\n",
      "['scrapy.spidermiddlewares.httperror.HttpErrorMiddleware',\n",
      " 'scrapy.spidermiddlewares.offsite.OffsiteMiddleware',\n",
      " 'scrapy.spidermiddlewares.referer.RefererMiddleware',\n",
      " 'scrapy.spidermiddlewares.urllength.UrlLengthMiddleware',\n",
      " 'scrapy.spidermiddlewares.depth.DepthMiddleware']\n",
      "2020-04-24 00:11:42 [scrapy.middleware] INFO: Enabled item pipelines:\n",
      "[]\n",
      "2020-04-24 00:11:42 [scrapy.core.engine] INFO: Spider opened\n",
      "2020-04-24 00:11:42 [scrapy.extensions.logstats] INFO: Crawled 0 pages (at 0 pages/min), scraped 0 items (at 0 items/min)\n",
      "2020-04-24 00:11:42 [scrapy.extensions.telnet] INFO: Telnet console listening on 127.0.0.1:6023\n",
      "2020-04-24 00:11:42 [scrapy.downloadermiddlewares.redirect] DEBUG: Redirecting (301) to <GET https://en.wikipedia.org/robots.txt> from <GET http://en.wikipedia.org/robots.txt>\n",
      "2020-04-24 00:11:42 [scrapy.core.engine] DEBUG: Crawled (200) <GET https://en.wikipedia.org/robots.txt> (referer: None)\n",
      "2020-04-24 00:11:43 [scrapy.downloadermiddlewares.redirect] DEBUG: Redirecting (301) to <GET https://en.wikipedia.org/wiki/Main_Page> from <GET http://en.wikipedia.org/wiki/Main_Page>\n",
      "2020-04-24 00:11:43 [scrapy.core.engine] DEBUG: Crawled (200) <GET https://en.wikipedia.org/wiki/Python_%28programming_language%29> (referer: None)\n",
      "2020-04-24 00:11:43 [scrapy.core.scraper] DEBUG: Scraped from <200 https://en.wikipedia.org/wiki/Python_%28programming_language%29>\n",
      "\n",
      "{'title': 'Python (programming language)'}\n",
      "2020-04-24 00:11:43 [scrapy.core.engine] DEBUG: Crawled (200) <GET https://en.wikipedia.org/wiki/Main_Page> (referer: None)\n",
      "2020-04-24 00:11:43 [scrapy.core.scraper] DEBUG: Scraped from <200 https://en.wikipedia.org/wiki/Main_Page>\n",
      "\n",
      "{'title': 'Main Page'}\n",
      "2020-04-24 00:11:43 [scrapy.core.engine] INFO: Closing spider (finished)\n",
      "2020-04-24 00:11:43 [scrapy.statscollectors] INFO: Dumping Scrapy stats:\n",
      "{'downloader/request_bytes': 1450,\n",
      " 'downloader/request_count': 5,\n",
      " 'downloader/request_method_count/GET': 5,\n",
      " 'downloader/response_bytes': 105435,\n",
      " 'downloader/response_count': 5,\n",
      " 'downloader/response_status_count/200': 3,\n",
      " 'downloader/response_status_count/301': 2,\n",
      " 'finish_reason': 'finished',\n",
      " 'finish_time': datetime.datetime(2020, 4, 23, 15, 11, 43, 799653),\n",
      " 'item_scraped_count': 2,\n",
      " 'log_count/DEBUG': 7,\n",
      " 'log_count/INFO': 9,\n",
      " 'response_received_count': 3,\n",
      " 'robotstxt/request_count': 1,\n",
      " 'robotstxt/response_count': 1,\n",
      " 'robotstxt/response_status_count/200': 1,\n",
      " 'scheduler/dequeued': 3,\n",
      " 'scheduler/dequeued/memory': 3,\n",
      " 'scheduler/enqueued': 3,\n",
      " 'scheduler/enqueued/memory': 3,\n",
      " 'start_time': datetime.datetime(2020, 4, 23, 15, 11, 42, 323214)}\n",
      "2020-04-24 00:11:43 [scrapy.core.engine] INFO: Spider closed (finished)\n"
     ]
    }
   ],
   "source": [
    "! scrapy crawl article"
   ]
  },
  {
   "cell_type": "markdown",
   "metadata": {},
   "source": [
    "csv 파일로 저장해 보자."
   ]
  },
  {
   "cell_type": "code",
   "execution_count": 49,
   "metadata": {
    "ExecuteTime": {
     "end_time": "2020-04-23T15:13:52.608888Z",
     "start_time": "2020-04-23T15:13:49.900378Z"
    },
    "collapsed": true
   },
   "outputs": [
    {
     "name": "stdout",
     "output_type": "stream",
     "text": [
      "Title is: Python (programming language)\n",
      "Title is: Main Page\n"
     ]
    },
    {
     "name": "stderr",
     "output_type": "stream",
     "text": [
      "2020-04-24 00:13:50 [scrapy.utils.log] INFO: Scrapy 1.6.0 started (bot: wikiSpider)\n",
      "2020-04-24 00:13:50 [scrapy.utils.log] INFO: Versions: lxml 4.5.0.0, libxml2 2.9.9, cssselect 1.1.0, parsel 1.5.2, w3lib 1.21.0, Twisted 20.3.0, Python 3.8.2 (default, Apr 14 2020, 19:01:40) [MSC v.1916 64 bit (AMD64)], pyOpenSSL 19.1.0 (OpenSSL 1.1.1g  21 Apr 2020), cryptography 2.8, Platform Windows-10-10.0.18362-SP0\n",
      "2020-04-24 00:13:50 [scrapy.crawler] INFO: Overridden settings: {'BOT_NAME': 'wikiSpider', 'FEED_FORMAT': 'csv', 'FEED_URI': 'articles.csv', 'NEWSPIDER_MODULE': 'wikiSpider.spiders', 'ROBOTSTXT_OBEY': True, 'SPIDER_MODULES': ['wikiSpider.spiders']}\n",
      "2020-04-24 00:13:50 [scrapy.extensions.telnet] INFO: Telnet Password: f67bf472607c557c\n",
      "2020-04-24 00:13:50 [scrapy.middleware] INFO: Enabled extensions:\n",
      "['scrapy.extensions.corestats.CoreStats',\n",
      " 'scrapy.extensions.telnet.TelnetConsole',\n",
      " 'scrapy.extensions.feedexport.FeedExporter',\n",
      " 'scrapy.extensions.logstats.LogStats']\n",
      "2020-04-24 00:13:50 [scrapy.middleware] INFO: Enabled downloader middlewares:\n",
      "['scrapy.downloadermiddlewares.robotstxt.RobotsTxtMiddleware',\n",
      " 'scrapy.downloadermiddlewares.httpauth.HttpAuthMiddleware',\n",
      " 'scrapy.downloadermiddlewares.downloadtimeout.DownloadTimeoutMiddleware',\n",
      " 'scrapy.downloadermiddlewares.defaultheaders.DefaultHeadersMiddleware',\n",
      " 'scrapy.downloadermiddlewares.useragent.UserAgentMiddleware',\n",
      " 'scrapy.downloadermiddlewares.retry.RetryMiddleware',\n",
      " 'scrapy.downloadermiddlewares.redirect.MetaRefreshMiddleware',\n",
      " 'scrapy.downloadermiddlewares.httpcompression.HttpCompressionMiddleware',\n",
      " 'scrapy.downloadermiddlewares.redirect.RedirectMiddleware',\n",
      " 'scrapy.downloadermiddlewares.cookies.CookiesMiddleware',\n",
      " 'scrapy.downloadermiddlewares.httpproxy.HttpProxyMiddleware',\n",
      " 'scrapy.downloadermiddlewares.stats.DownloaderStats']\n",
      "2020-04-24 00:13:50 [scrapy.middleware] INFO: Enabled spider middlewares:\n",
      "['scrapy.spidermiddlewares.httperror.HttpErrorMiddleware',\n",
      " 'scrapy.spidermiddlewares.offsite.OffsiteMiddleware',\n",
      " 'scrapy.spidermiddlewares.referer.RefererMiddleware',\n",
      " 'scrapy.spidermiddlewares.urllength.UrlLengthMiddleware',\n",
      " 'scrapy.spidermiddlewares.depth.DepthMiddleware']\n",
      "2020-04-24 00:13:50 [scrapy.middleware] INFO: Enabled item pipelines:\n",
      "[]\n",
      "2020-04-24 00:13:50 [scrapy.core.engine] INFO: Spider opened\n",
      "2020-04-24 00:13:50 [scrapy.extensions.logstats] INFO: Crawled 0 pages (at 0 pages/min), scraped 0 items (at 0 items/min)\n",
      "2020-04-24 00:13:50 [scrapy.extensions.telnet] INFO: Telnet console listening on 127.0.0.1:6023\n",
      "2020-04-24 00:13:51 [scrapy.downloadermiddlewares.redirect] DEBUG: Redirecting (301) to <GET https://en.wikipedia.org/robots.txt> from <GET http://en.wikipedia.org/robots.txt>\n",
      "2020-04-24 00:13:51 [scrapy.core.engine] DEBUG: Crawled (200) <GET https://en.wikipedia.org/robots.txt> (referer: None)\n",
      "2020-04-24 00:13:51 [scrapy.downloadermiddlewares.redirect] DEBUG: Redirecting (301) to <GET https://en.wikipedia.org/wiki/Main_Page> from <GET http://en.wikipedia.org/wiki/Main_Page>\n",
      "2020-04-24 00:13:52 [scrapy.core.engine] DEBUG: Crawled (200) <GET https://en.wikipedia.org/wiki/Python_%28programming_language%29> (referer: None)\n",
      "2020-04-24 00:13:52 [scrapy.core.scraper] DEBUG: Scraped from <200 https://en.wikipedia.org/wiki/Python_%28programming_language%29>\n",
      "\n",
      "{'title': 'Python (programming language)'}\n",
      "2020-04-24 00:13:52 [scrapy.core.engine] DEBUG: Crawled (200) <GET https://en.wikipedia.org/wiki/Main_Page> (referer: None)\n",
      "2020-04-24 00:13:52 [scrapy.core.scraper] DEBUG: Scraped from <200 https://en.wikipedia.org/wiki/Main_Page>\n",
      "\n",
      "{'title': 'Main Page'}\n",
      "2020-04-24 00:13:52 [scrapy.core.engine] INFO: Closing spider (finished)\n",
      "2020-04-24 00:13:52 [scrapy.extensions.feedexport] INFO: Stored csv feed (2 items) in: articles.csv\n",
      "2020-04-24 00:13:52 [scrapy.statscollectors] INFO: Dumping Scrapy stats:\n",
      "{'downloader/request_bytes': 1450,\n",
      " 'downloader/request_count': 5,\n",
      " 'downloader/request_method_count/GET': 5,\n",
      " 'downloader/response_bytes': 105435,\n",
      " 'downloader/response_count': 5,\n",
      " 'downloader/response_status_count/200': 3,\n",
      " 'downloader/response_status_count/301': 2,\n",
      " 'finish_reason': 'finished',\n",
      " 'finish_time': datetime.datetime(2020, 4, 23, 15, 13, 52, 377804),\n",
      " 'item_scraped_count': 2,\n",
      " 'log_count/DEBUG': 7,\n",
      " 'log_count/INFO': 10,\n",
      " 'response_received_count': 3,\n",
      " 'robotstxt/request_count': 1,\n",
      " 'robotstxt/response_count': 1,\n",
      " 'robotstxt/response_status_count/200': 1,\n",
      " 'scheduler/dequeued': 3,\n",
      " 'scheduler/dequeued/memory': 3,\n",
      " 'scheduler/enqueued': 3,\n",
      " 'scheduler/enqueued/memory': 3,\n",
      " 'start_time': datetime.datetime(2020, 4, 23, 15, 13, 50, 869189)}\n",
      "2020-04-24 00:13:52 [scrapy.core.engine] INFO: Spider closed (finished)\n"
     ]
    }
   ],
   "source": [
    "! scrapy crawl article -o articles.csv -t csv"
   ]
  }
 ],
 "metadata": {
  "kernelspec": {
   "display_name": "Python 3",
   "language": "python",
   "name": "python3"
  },
  "language_info": {
   "codemirror_mode": {
    "name": "ipython",
    "version": 3
   },
   "file_extension": ".py",
   "mimetype": "text/x-python",
   "name": "python",
   "nbconvert_exporter": "python",
   "pygments_lexer": "ipython3",
   "version": "3.8.2"
  },
  "toc": {
   "base_numbering": 1,
   "nav_menu": {},
   "number_sections": true,
   "sideBar": true,
   "skip_h1_title": false,
   "title_cell": "Table of Contents",
   "title_sidebar": "Contents",
   "toc_cell": false,
   "toc_position": {},
   "toc_section_display": true,
   "toc_window_display": false
  }
 },
 "nbformat": 4,
 "nbformat_minor": 4
}
